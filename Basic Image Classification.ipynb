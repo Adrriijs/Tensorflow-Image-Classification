{
 "cells": [
  {
   "cell_type": "markdown",
   "id": "f0dd5b89-c7b1-41f6-97af-7b87d3ebf149",
   "metadata": {},
   "source": [
    "# Introduction"
   ]
  },
  {
   "cell_type": "markdown",
   "id": "16518f14-aa91-4e14-adf7-037ce735f9e2",
   "metadata": {},
   "source": [
    "This project builds a handwritten digit classifier using the MNIST dataset and a simple neural network with TensorFlow and Keras. The MNIST dataset contains 28x28 grayscale images of digits (0-9), which are used to train the model to recognize and classify handwritten numbers.\n",
    "\n",
    "Project Goals:\n",
    "* Load and preprocess the MNIST dataset.\n",
    "* Build a neural network using TensorFlow/Keras.\n",
    "* Train the model and evaluate its accuracy.\n",
    "* Test the model with sample handwritten digits.\n",
    "* Visualize predictions and compare them with actual labels.\n",
    "\n",
    "Tools Used:\n",
    "* TensorFlow/Keras – For building and training the neural network.\n",
    "* Matplotlib – For visualizing sample images and predictions.\n",
    "* Python – For implementing the model and analysis."
   ]
  },
  {
   "cell_type": "markdown",
   "id": "8dbc29a3-bc21-4d0a-a151-57567a3965d5",
   "metadata": {},
   "source": [
    "### Import"
   ]
  },
  {
   "cell_type": "code",
   "execution_count": 4,
   "id": "5b735577-c811-466a-a2ec-0e65da6a4f2f",
   "metadata": {},
   "outputs": [],
   "source": [
    "import tensorflow as tf \n",
    "from tensorflow import keras \n",
    "import matplotlib.pyplot as plt "
   ]
  },
  {
   "cell_type": "markdown",
   "id": "b33f0e04-5f36-40ee-a6ca-a5404ca17b53",
   "metadata": {},
   "source": [
    "### Neural Network"
   ]
  },
  {
   "cell_type": "code",
   "execution_count": 6,
   "id": "217393b9-465a-4282-8330-0a328f4ebf23",
   "metadata": {},
   "outputs": [],
   "source": [
    "mnist = keras.datasets.mnist\n",
    "(x_train, y_train), (x_test, y_test) = mnist.load_data()"
   ]
  },
  {
   "cell_type": "markdown",
   "id": "86e6473b-ba49-4a21-aceb-ef6f35d7d975",
   "metadata": {},
   "source": [
    "Note : I choose mnist dataset because it is beginner friendly to learn image classification but effective"
   ]
  },
  {
   "cell_type": "code",
   "execution_count": 8,
   "id": "6796a641-cc65-4e79-85c7-ac28260d702a",
   "metadata": {},
   "outputs": [],
   "source": [
    "x_train, x_test = x_train / 255.0, x_test / 255.0 # scalling the pixel from 0 - 255 to 0 - 1"
   ]
  },
  {
   "cell_type": "code",
   "execution_count": 9,
   "id": "333dddea-8abf-412d-9b2d-bde08725f549",
   "metadata": {},
   "outputs": [],
   "source": [
    "model = keras.Sequential([\n",
    "    keras.layers.Input(shape=(28, 28)),  # define input shape\n",
    "    keras.layers.Flatten(),  # convert 2D to 1D\n",
    "    keras.layers.Dense(128, activation='relu'),  # hidden layer\n",
    "    keras.layers.Dense(10, activation='softmax')  # output layer\n",
    "])"
   ]
  },
  {
   "cell_type": "code",
   "execution_count": 10,
   "id": "385d9ea2-8a31-4b26-81b1-ed35b89e5059",
   "metadata": {},
   "outputs": [],
   "source": [
    "model.compile(optimizer='adam',\n",
    "              loss='sparse_categorical_crossentropy',\n",
    "              metrics=['accuracy'])"
   ]
  },
  {
   "cell_type": "markdown",
   "id": "d9b12769-aadd-45cd-b487-7ebab0a20532",
   "metadata": {},
   "source": [
    "### Train The Model"
   ]
  },
  {
   "cell_type": "code",
   "execution_count": null,
   "id": "d9d37de4-43ef-45ac-b8f0-4632490e3600",
   "metadata": {},
   "outputs": [
    {
     "name": "stdout",
     "output_type": "stream",
     "text": [
      "Epoch 1/5\n",
      "\u001b[1m1875/1875\u001b[0m \u001b[32m━━━━━━━━━━━━━━━━━━━━\u001b[0m\u001b[37m\u001b[0m \u001b[1m4s\u001b[0m 2ms/step - accuracy: 0.8813 - loss: 0.4232\n",
      "Epoch 2/5\n",
      "\u001b[1m1875/1875\u001b[0m \u001b[32m━━━━━━━━━━━━━━━━━━━━\u001b[0m\u001b[37m\u001b[0m \u001b[1m3s\u001b[0m 2ms/step - accuracy: 0.9622 - loss: 0.1275\n",
      "Epoch 3/5\n",
      "\u001b[1m1875/1875\u001b[0m \u001b[32m━━━━━━━━━━━━━━━━━━━━\u001b[0m\u001b[37m\u001b[0m \u001b[1m3s\u001b[0m 1ms/step - accuracy: 0.9768 - loss: 0.0782\n",
      "Epoch 4/5\n",
      "\u001b[1m1875/1875\u001b[0m \u001b[32m━━━━━━━━━━━━━━━━━━━━\u001b[0m\u001b[37m\u001b[0m \u001b[1m3s\u001b[0m 1ms/step - accuracy: 0.9824 - loss: 0.0567\n",
      "Epoch 5/5\n",
      "\u001b[1m 616/1875\u001b[0m \u001b[32m━━━━━━\u001b[0m\u001b[37m━━━━━━━━━━━━━━\u001b[0m \u001b[1m1s\u001b[0m 1ms/step - accuracy: 0.9873 - loss: 0.0437"
     ]
    }
   ],
   "source": [
    "model.fit(x_train, y_train, epochs = 5)"
   ]
  },
  {
   "cell_type": "code",
   "execution_count": null,
   "id": "fb463cb6-0884-41d0-816e-fe1228b8db64",
   "metadata": {},
   "outputs": [],
   "source": [
    "test_loss, test_acc = model.evaluate(x_test, y_test)\n",
    "print(f\"\\nTest accuracy: {test_acc:.4f}\")"
   ]
  },
  {
   "cell_type": "markdown",
   "id": "a0cbf19a-d55c-48b1-bf68-fdc3294d4fd9",
   "metadata": {},
   "source": [
    "### Result"
   ]
  },
  {
   "cell_type": "code",
   "execution_count": null,
   "id": "7cf50acf-4e34-42ff-8054-d0423ede1dec",
   "metadata": {},
   "outputs": [],
   "source": [
    "predictions = model.predict(x_test)"
   ]
  },
  {
   "cell_type": "code",
   "execution_count": null,
   "id": "a61bde86-0ade-453e-8ca3-d805912830b1",
   "metadata": {},
   "outputs": [],
   "source": [
    "correct_predictions = 0\n",
    "total_images = 10 # we can change the value to how many picture we want to test the model\n",
    "\n",
    "for i in range(total_images):\n",
    "    predicted_digit = predictions[i].argmax()\n",
    "    \n",
    "    if predicted_digit == y_test[i]:\n",
    "        correct_predictions += 1 \n",
    "        \n",
    "    # display the image with prediction result\n",
    "    plt.imshow(x_test[i], cmap=plt.cm.binary)\n",
    "    plt.title(f\"Predicted: {predictions[i].argmax()}, Actual: {y_test[i]}\")\n",
    "    plt.axis(\"off\")\n",
    "    plt.show()"
   ]
  },
  {
   "cell_type": "code",
   "execution_count": null,
   "id": "62eb1616-79ab-48cb-82aa-39e756d633c6",
   "metadata": {},
   "outputs": [],
   "source": [
    "# Calculate and print accuracy  \n",
    "accuracy = (correct_predictions / total_images) * 100  \n",
    "print(f\"\\nAccuracy for {total_images} test images: {accuracy:.2f}%\")"
   ]
  }
 ],
 "metadata": {
  "kernelspec": {
   "display_name": "Python 3 (ipykernel)",
   "language": "python",
   "name": "python3"
  },
  "language_info": {
   "codemirror_mode": {
    "name": "ipython",
    "version": 3
   },
   "file_extension": ".py",
   "mimetype": "text/x-python",
   "name": "python",
   "nbconvert_exporter": "python",
   "pygments_lexer": "ipython3",
   "version": "3.12.7"
  }
 },
 "nbformat": 4,
 "nbformat_minor": 5
}
